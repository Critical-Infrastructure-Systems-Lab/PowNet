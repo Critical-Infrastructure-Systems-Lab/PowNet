{
 "cells": [
  {
   "cell_type": "markdown",
   "id": "02a37d9a",
   "metadata": {},
   "source": [
    "# Rounding heuristic"
   ]
  },
  {
   "cell_type": "code",
   "execution_count": null,
   "id": "59318c92",
   "metadata": {},
   "outputs": [],
   "source": [
    "print('Hello World!')"
   ]
  }
 ],
 "metadata": {
  "language_info": {
   "name": "python"
  }
 },
 "nbformat": 4,
 "nbformat_minor": 5
}
