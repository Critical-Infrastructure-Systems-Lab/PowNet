{
 "cells": [
  {
   "cell_type": "code",
   "execution_count": 1,
   "metadata": {},
   "outputs": [],
   "source": [
    "import csv\n",
    "import pandas as pd\n",
    "import numpy as np\n",
    "import matplotlib.pyplot as plt\n",
    "import matplotlib.dates as mdates\n",
    "import datetime\n",
    "from pandas.plotting import register_matplotlib_converters\n",
    "register_matplotlib_converters()"
   ]
  },
  {
   "cell_type": "code",
   "execution_count": 2,
   "metadata": {},
   "outputs": [],
   "source": [
    "yr = 2016\n",
    "run_no = 1 #'altered'\n",
    "rundays = 365\n",
    "runhours = rundays*24\n",
    "\n",
    "hr_range = pd.date_range('1/1/'+str(yr)+'', periods=runhours, freq='H') \n",
    "day_range = pd.date_range('1/1/'+str(yr)+'', periods=rundays, freq='D')"
   ]
  },
  {
   "cell_type": "markdown",
   "metadata": {},
   "source": [
    "# Annual generation mix"
   ]
  },
  {
   "cell_type": "code",
   "execution_count": 3,
   "metadata": {},
   "outputs": [],
   "source": [
    "###Observed statistics (EDC, 2016)\n",
    "gen_obs = [2750, 2570, 411, 792, 158, 38, 0]\n",
    "indx = ['hydro', 'coal', 'oil','viet', 'thai', 'laos', 'slack']\n",
    "\n",
    "df_gen_gwh = pd.DataFrame(gen_obs,columns=['obs'])\n",
    "df_gen_gwh.index = indx\n",
    "##df_gen_gwh"
   ]
  },
  {
   "cell_type": "code",
   "execution_count": 4,
   "metadata": {},
   "outputs": [],
   "source": [
    "mwh = pd.read_csv('out_camb_R'+str(run_no)+'_'+str(yr)+'_mwh.csv',header=0)\n",
    "hydro = pd.read_csv('out_camb_R'+str(run_no)+'_'+str(yr)+'_hydro.csv',header=0)\n",
    "hydro_import = pd.read_csv('out_camb_R'+str(run_no)+'_'+str(yr)+'_hydro_import.csv',header=0) "
   ]
  },
  {
   "cell_type": "code",
   "execution_count": 5,
   "metadata": {},
   "outputs": [],
   "source": [
    "###Include Generator_type to the mwh data\n",
    "df_gen_param = pd.read_csv('data_camb_genparams.csv',header=0)\n",
    "\n",
    "gen_name = df_gen_param['name']\n",
    "gen_type = df_gen_param['typ']\n",
    "\n",
    "for x in range(len(gen_name)):\n",
    "    mwh.loc[mwh.Generator == gen_name[x], 'Type'] = gen_type[x]\n"
   ]
  },
  {
   "cell_type": "code",
   "execution_count": 6,
   "metadata": {},
   "outputs": [
    {
     "data": {
      "text/html": [
       "<div>\n",
       "<style scoped>\n",
       "    .dataframe tbody tr th:only-of-type {\n",
       "        vertical-align: middle;\n",
       "    }\n",
       "\n",
       "    .dataframe tbody tr th {\n",
       "        vertical-align: top;\n",
       "    }\n",
       "\n",
       "    .dataframe thead th {\n",
       "        text-align: right;\n",
       "    }\n",
       "</style>\n",
       "<table border=\"1\" class=\"dataframe\">\n",
       "  <thead>\n",
       "    <tr style=\"text-align: right;\">\n",
       "      <th></th>\n",
       "      <th>obs</th>\n",
       "      <th>sim</th>\n",
       "    </tr>\n",
       "  </thead>\n",
       "  <tbody>\n",
       "    <tr>\n",
       "      <th>hydro</th>\n",
       "      <td>2750</td>\n",
       "      <td>2783.553282</td>\n",
       "    </tr>\n",
       "    <tr>\n",
       "      <th>coal</th>\n",
       "      <td>2570</td>\n",
       "      <td>2624.540429</td>\n",
       "    </tr>\n",
       "    <tr>\n",
       "      <th>oil</th>\n",
       "      <td>411</td>\n",
       "      <td>290.099356</td>\n",
       "    </tr>\n",
       "    <tr>\n",
       "      <th>viet</th>\n",
       "      <td>792</td>\n",
       "      <td>868.502514</td>\n",
       "    </tr>\n",
       "    <tr>\n",
       "      <th>thai</th>\n",
       "      <td>158</td>\n",
       "      <td>117.941126</td>\n",
       "    </tr>\n",
       "    <tr>\n",
       "      <th>laos</th>\n",
       "      <td>38</td>\n",
       "      <td>41.533131</td>\n",
       "    </tr>\n",
       "    <tr>\n",
       "      <th>slack</th>\n",
       "      <td>0</td>\n",
       "      <td>0.000000</td>\n",
       "    </tr>\n",
       "  </tbody>\n",
       "</table>\n",
       "</div>"
      ],
      "text/plain": [
       "        obs          sim\n",
       "hydro  2750  2783.553282\n",
       "coal   2570  2624.540429\n",
       "oil     411   290.099356\n",
       "viet    792   868.502514\n",
       "thai    158   117.941126\n",
       "laos     38    41.533131\n",
       "slack     0     0.000000"
      ]
     },
     "execution_count": 6,
     "metadata": {},
     "output_type": "execute_result"
    }
   ],
   "source": [
    "### Annual generation mix\n",
    "y_disp = (mwh.groupby(['Type'])['Value'].sum())/1000\n",
    "y_hydro = sum(hydro['Value'])/1000\n",
    "y_hydro_import = sum(hydro_import['Value'])/1000\n",
    "\n",
    "simhydro = y_hydro\n",
    "simcoal = y_disp['coal_st']\n",
    "simoil = y_disp['oil_ic'] + y_disp['oil_st']\n",
    "simviet = y_disp['imp_viet']\n",
    "simthai = y_disp['imp_thai']\n",
    "simlaos = y_hydro_import\n",
    "simslack = y_disp['slack'] \n",
    "\n",
    "df_gen_gwh['sim'] = [simhydro,simcoal,simoil,simviet,simthai,simlaos,simslack]\n",
    "\n",
    "df_gen_gwh"
   ]
  },
  {
   "cell_type": "markdown",
   "metadata": {},
   "source": [
    "# Daily generation mix"
   ]
  },
  {
   "cell_type": "code",
   "execution_count": 7,
   "metadata": {},
   "outputs": [
    {
     "data": {
      "text/plain": [
       "Index(['coal_st', 'imp_thai', 'imp_viet', 'oil_ic', 'oil_st', 'slack'], dtype='object', name='Type')"
      ]
     },
     "execution_count": 7,
     "metadata": {},
     "output_type": "execute_result"
    }
   ],
   "source": [
    "types = y_disp.index\n",
    "types"
   ]
  },
  {
   "cell_type": "code",
   "execution_count": 8,
   "metadata": {},
   "outputs": [],
   "source": [
    "###Generations by fuel type and time\n",
    "disp_hourly = mwh.groupby(['Type','Time'])['Value'].sum()\n",
    "\n",
    "##Hourly TS of dispatchables\n",
    "ts_disp_hourly = []\n",
    "for i in range (len(types)):\n",
    "    ts_disp_hourly.append(pd.Series(disp_hourly[types[i]].values, index=hr_range))\n",
    "\n",
    "\n",
    "##Daily TS of dispatchables (in GWh)\n",
    "disp_daily = []\n",
    "for i in range (len(types)):    \n",
    "    disp_daily.append(ts_disp_hourly[i].resample('D').sum()/1000)\n",
    "    \n",
    "##disp_daily"
   ]
  },
  {
   "cell_type": "code",
   "execution_count": 9,
   "metadata": {},
   "outputs": [],
   "source": [
    "##Hourly TS of hydro\n",
    "hydro_hourly = hydro.groupby(['Time'])['Value'].sum()\n",
    "hydro_import_hourly = hydro_import.groupby(['Time'])['Value'].sum()\n",
    "\n",
    "ts_hydro = pd.Series(hydro_hourly.values, index=hr_range)\n",
    "ts_hydro_import = pd.Series(hydro_import_hourly.values, index=hr_range)\n",
    "\n",
    "##Daily TS of hydro (in GWh)\n",
    "hydro_daily = ts_hydro.resample('D').sum()/1000\n",
    "hydro_import_daily = ts_hydro_import.resample('D').sum()/1000"
   ]
  },
  {
   "cell_type": "markdown",
   "metadata": {},
   "source": [
    "# Plot daily generation mix"
   ]
  },
  {
   "cell_type": "code",
   "execution_count": 10,
   "metadata": {},
   "outputs": [
    {
     "data": {
      "image/png": "[encoded data removed]",
      "text/plain": [
       "<Figure size 432x288 with 1 Axes>"
      ]
     },
     "metadata": {
      "needs_background": "light"
     },
     "output_type": "display_data"
    }
   ],
   "source": [
    "### Plot Daily generation by resource-type\n",
    "daily_coal = disp_daily[0]\n",
    "daily_imprt = disp_daily[1] +disp_daily[2] + hydro_import_daily\n",
    "daily_oil = disp_daily[3] +disp_daily[4]\n",
    "daily_hydro = hydro_daily\n",
    "daily_slack = disp_daily[5]\n",
    "\n",
    "fig, (ax1) = plt.subplots(nrows=1,ncols=1) ##,figsize=(6,4)\n",
    "\n",
    "ax1.stackplot(day_range,daily_hydro,daily_coal,hydro_import_daily,\n",
    "              disp_daily[1],disp_daily[2],daily_oil,daily_slack,\n",
    "              labels=['hydro','coal','import (Laos)','import (Thailand)','import (Vietnam)','oil','slack'])\n",
    "##ax1.set_xticks(rotation=90)\n",
    "##ax1.set_xlabel('Day')\n",
    "ax1.set_ylabel('Electricity generation (GWh/day)')\n",
    "#ax1.set_ylim(0,20.5)\n",
    "ax1.legend(loc=(0.04,1.01),ncol=3)\n",
    "\n",
    "# Set the locator\n",
    "locator = mdates.MonthLocator()  # every month\n",
    "# Specify the format - %b gives us Jan, Feb...\n",
    "fmt = mdates.DateFormatter('%b')\n",
    "X = plt.gca().xaxis\n",
    "X.set_major_locator(locator)\n",
    "# Specify formatter\n",
    "X.set_major_formatter(fmt)\n",
    "\n",
    "##plt.savefig('fig_daily_generation_curgrid.eps', format='eps',dpi=1200,bbox_inches = \"tight\") ##"
   ]
  },
  {
   "cell_type": "markdown",
   "metadata": {},
   "source": [
    "# Annual operating costs"
   ]
  },
  {
   "cell_type": "code",
   "execution_count": 11,
   "metadata": {},
   "outputs": [],
   "source": [
    "gen_name = df_gen_param['name']\n",
    "gen_type = df_gen_param['typ']\n",
    "gen_maxcap = df_gen_param['maxcap']\n",
    "gen_heat_rate = df_gen_param['heat_rate']\n",
    "gen_var_om = df_gen_param['var_om']\n",
    "gen_fix_om = df_gen_param['fix_om']\n",
    "gen_st_cost = df_gen_param['st_cost']"
   ]
  },
  {
   "cell_type": "code",
   "execution_count": 12,
   "metadata": {},
   "outputs": [],
   "source": [
    "###Calibrated fuel_prices (from objective function)\n",
    "fuel_typ = ['coal_st','oil_ic','oil_st','imp_viet','imp_thai','slack']\n",
    "cal_fuel_price = [5.2,6.0,6.0,65,66,1000] ##price excluding slack\n",
    "hydro_imp_price = 48 ##(usd/mwh)"
   ]
  },
  {
   "cell_type": "code",
   "execution_count": 13,
   "metadata": {},
   "outputs": [],
   "source": [
    "for x in range(len(fuel_typ)):\n",
    "    df_gen_param.loc[df_gen_param.typ == fuel_typ[x], 'fu_price'] = cal_fuel_price[x]\n",
    "\n",
    "fu_price = df_gen_param['fu_price']"
   ]
  },
  {
   "cell_type": "code",
   "execution_count": 14,
   "metadata": {},
   "outputs": [],
   "source": [
    "df_gen_on = pd.read_csv('out_camb_R'+str(run_no)+'_2016_on.csv',header=0)\n",
    "df_gen_switch = pd.read_csv('out_camb_R'+str(run_no)+'_2016_switch.csv',header=0)\n",
    "\n",
    "thermo_bygen = (mwh.groupby(['Generator','Time'])['Value'].sum())\n",
    "on_bygen = (df_gen_on.groupby(['Generator','Time'])['Value'].sum())\n",
    "switch_bygen = (df_gen_switch.groupby(['Generator','Time'])['Value'].sum())\n"
   ]
  },
  {
   "cell_type": "code",
   "execution_count": 15,
   "metadata": {},
   "outputs": [],
   "source": [
    "###Annual total cost by each dispatchable unit\n",
    "tt_cost_unit = []\n",
    "\n",
    "for i in range(len(gen_name)):\n",
    "    fx_cost =  gen_maxcap[i]*gen_fix_om[i]*on_bygen[gen_name[i]]\n",
    "    st_cost =  gen_maxcap[i]*gen_st_cost[i]*switch_bygen[gen_name[i]]\n",
    "    vr_cost = thermo_bygen[gen_name[i]]*(gen_heat_rate[i]*fu_price[i]+gen_var_om[i])\n",
    "\n",
    "    tt_cost = fx_cost + st_cost + vr_cost\n",
    "\n",
    "    tt_cost_unit.append(sum(tt_cost)) ##total cost by each unit\n",
    "\n",
    "    \n",
    "df_tt_cost_unit = pd.DataFrame(tt_cost_unit)\n",
    "df_tt_cost_unit.index = gen_name\n",
    "df_tt_cost_unit.columns = ['annual cost ($)']\n",
    "##df_tt_cost_unit"
   ]
  },
  {
   "cell_type": "code",
   "execution_count": 16,
   "metadata": {},
   "outputs": [
    {
     "data": {
      "text/plain": [
       "1.993590268216215"
      ]
     },
     "execution_count": 16,
     "metadata": {},
     "output_type": "execute_result"
    }
   ],
   "source": [
    "###Annual cost for hydropower import\n",
    "cost_hydro_import = sum(hydro_import['Value'])*hydro_imp_price/(10**6) ##million dollars\n",
    "cost_hydro_import"
   ]
  },
  {
   "cell_type": "code",
   "execution_count": 17,
   "metadata": {},
   "outputs": [
    {
     "data": {
      "text/plain": [
       "244.24865971150084"
      ]
     },
     "execution_count": 17,
     "metadata": {},
     "output_type": "execute_result"
    }
   ],
   "source": [
    "###Annual total cost for entire system\n",
    "y_syscost = sum(tt_cost_unit[:-1])/(10**6) + cost_hydro_import ##million dollars excluding slack_cost\n",
    "\n",
    "y_syscost"
   ]
  },
  {
   "cell_type": "markdown",
   "metadata": {},
   "source": [
    "# Annual CO2 Emissions"
   ]
  },
  {
   "cell_type": "code",
   "execution_count": 18,
   "metadata": {},
   "outputs": [
    {
     "data": {
      "text/plain": [
       "(2.729522046114756, 0.21177252989599532, 2.941294576010751)"
      ]
     },
     "execution_count": 18,
     "metadata": {},
     "output_type": "execute_result"
    }
   ],
   "source": [
    "###CO2 emission rates according to EPPO/EIA/Mittal\n",
    "co2_coal_rate = 1.04  ##tonne/mwh\n",
    "co2_oil_rate = 0.73  ##tonne/mwh\n",
    "\n",
    "ann_coal_mwh = (simcoal)*(10**3)\n",
    "ann_oil_mwh = (simoil)*(10**3)\n",
    "\n",
    "ann_co2_coal = ann_coal_mwh * co2_coal_rate/(10**6) ##in megatonnes\n",
    "ann_co2_oil = ann_oil_mwh * co2_oil_rate/(10**6) ##in megatonnes\n",
    "\n",
    "ann_co2_Mtonnes = ann_co2_coal + ann_co2_oil\n",
    "\n",
    "ann_co2_coal,ann_co2_oil,ann_co2_Mtonnes"
   ]
  },
  {
   "cell_type": "code",
   "execution_count": null,
   "metadata": {},
   "outputs": [],
   "source": []
  },
  {
   "cell_type": "code",
   "execution_count": null,
   "metadata": {},
   "outputs": [],
   "source": []
  }
 ],
 "metadata": {
  "kernelspec": {
   "display_name": "Python 3",
   "language": "python",
   "name": "python3"
  },
  "language_info": {
   "codemirror_mode": {
    "name": "ipython",
    "version": 3
   },
   "file_extension": ".py",
   "mimetype": "text/x-python",
   "name": "python",
   "nbconvert_exporter": "python",
   "pygments_lexer": "ipython3",
   "version": "3.7.3"
  }
 },
 "nbformat": 4,
 "nbformat_minor": 2
}
